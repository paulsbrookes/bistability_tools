{
 "cells": [
  {
   "cell_type": "code",
   "execution_count": 49,
   "metadata": {
    "collapsed": true,
    "deletable": true,
    "editable": true
   },
   "outputs": [],
   "source": [
    "import pandas as pd\n",
    "import numpy as np"
   ]
  },
  {
   "cell_type": "code",
   "execution_count": 50,
   "metadata": {
    "collapsed": true,
    "deletable": true,
    "editable": true
   },
   "outputs": [],
   "source": [
    "def frequencies_gen(fd0, fd1, fd2, fd3, df0, df1, df2):\n",
    "    \n",
    "    frequencies1 = np.arange(fd0, fd1+df0, df0)\n",
    "    frequencies2 = np.arange(fd1, fd2+df1, df1)\n",
    "    frequencies3 = np.arange(fd3, fd2-df2, -df2)\n",
    "\n",
    "    frequencies = np.hstack([frequencies1, frequencies2, frequencies3])\n",
    "    \n",
    "    frequencies = np.round(frequencies, 10)\n",
    "    \n",
    "    frequencies = np.array(sorted(set(list(frequencies))))\n",
    "    \n",
    "    return frequencies  "
   ]
  },
  {
   "cell_type": "code",
   "execution_count": 51,
   "metadata": {
    "collapsed": true,
    "deletable": true,
    "editable": true
   },
   "outputs": [],
   "source": [
    "def t_gen(eps_array):\n",
    "    n_spectra = eps_array.shape[0]\n",
    "    t_array = np.zeros(n_spectra, dtype=np.int)\n",
    "    t_array += 4 * (eps_array <= 1e-4)\n",
    "    t_array += 5 * (1e-4 < eps_array) * (eps_array <= 1e-3)\n",
    "    t_array += 6 * (1e-3 < eps_array) * (eps_array <= 2e-3)\n",
    "    t_array += 7 * (2e-3 < eps_array) * (eps_array <= 3e-3)\n",
    "    t_array += 8 * (3e-3 < eps_array) * (eps_array <= 4e-3)\n",
    "    return t_array\n",
    "\n",
    "def c_gen(eps_array):\n",
    "    n_spectra = eps_array.shape[0]\n",
    "    c_array = np.zeros(n_spectra, dtype=np.int)\n",
    "    c_array += 4 * (eps_array <= 1e-4)\n",
    "    c_array += 10 * (1e-4 < eps_array) * (eps_array <= 1e-3)\n",
    "    c_array += 15 * (1e-3 < eps_array) * (eps_array <= 2e-3)\n",
    "    c_array += 20 * (2e-3 < eps_array) * (eps_array <= 3.0e-3)\n",
    "    c_array += 25 * (3.0e-3 < eps_array) * (eps_array <= 4e-3)\n",
    "    return c_array"
   ]
  },
  {
   "cell_type": "code",
   "execution_count": 52,
   "metadata": {
    "collapsed": false,
    "deletable": true,
    "editable": true
   },
   "outputs": [],
   "source": [
    "endtime_list = [3e4, 3e4, 3e4, 3e4, 3e4, 3e4, 3e4, 3e4, 3e4, 3e4]\n",
    "snapshots_list = [2001, 2001, 2001, 2001, 2001, 2001, 2001, 2001, 2001, 2001]\n",
    "fd0_list = [10.485, 10.485, 10.485, 10.485, 10.485, 10.485, 10.485, 10.485, 10.485, 10.485]\n",
    "fd1_list = [10.4902, 10.4901, 10.4897, 10.4892, 10.4889, 10.4882, 10.488, 10.4875,  10.487, 10.4865]\n",
    "fd2_list = [10.4966, 10.4965, 10.4961, 10.4956, 10.4953, 10.4949, 10.4945,  10.494, 10.4935, 10.493]\n",
    "fd3_list = [10.500, 10.500, 10.500,10.500,10.500,10.500,10.500,10.500,10.500,10.500]\n",
    "df0_list = [0.0005, 0.0005, 0.0005, 0.0005, 0.0005, 0.0005, 0.0005, 0.0005, 0.0005, 0.0005]\n",
    "df1_list = [0.0001, 0.0001, 0.0001, 0.0001, 0.0001, 0.0001, 0.0001, 0.0001, 0.0001, 0.0001]\n",
    "df2_list = [0.001, 0.001, 0.001, 0.001, 0.001, 0.001, 0.001, 0.001, 0.001, 0.001]\n",
    "eps_list = [ 0.0012425 ,  0.00139411,  0.00156421,  0.00175507,  0.00196923,\n",
    "        0.00220951,  0.00247911,  0.00278161,  0.00312101,  0.00350183]\n",
    "eps_list = np.array(eps_list)\n",
    "t_list = t_gen(eps_list)\n",
    "c_list = c_gen(eps_list)\n",
    "\n",
    "#t_list = [6,6,6,6,6,7,7,7,8,8]\n",
    "#c_list = [15,15,15,15,15,20,20,20,24,24]\n",
    "\n",
    "group_folders = ['-31dBm', '-30dBm', '-29dBm', '-28dBm', '-27dBm', '-26dBm', '-25dBm', '-24dBm', '-23dBm', '-22dBm']\n",
    "\n",
    "content = [eps_list, fd0_list, fd1_list, fd2_list, fd3_list, df0_list, df1_list, df2_list, t_list, c_list, endtime_list, snapshots_list, group_folders]\n",
    "\n",
    "columns = ['eps', 'fd0', 'fd1', 'fd2', 'fd3', 'df0', 'df1', 'df2', 't_levels', 'c_levels', 'endtime', 'snapshots', 'group_folder']\n",
    "\n",
    "recipe = pd.DataFrame(content).T\n",
    "recipe.columns = columns"
   ]
  },
  {
   "cell_type": "code",
   "execution_count": 53,
   "metadata": {
    "collapsed": true,
    "deletable": true,
    "editable": true
   },
   "outputs": [],
   "source": [
    "for index in range(recipe.shape[0]):\n",
    "    row = recipe.iloc[index,:]\n",
    "    frequencies = frequencies_gen(row.fd0, row.fd1, row.fd2, row.fd3, row.df0, row.df1, row.df2)\n",
    "    eps_array = np.array([row.eps])\n",
    "    t_array = np.array([row.t_levels])\n",
    "    c_array = np.array([row.c_levels])\n",
    "    endtime_array = np.array([row.endtime])\n",
    "    snapshots_array = np.array([row.snapshots])\n",
    "    group_folders_array = np.array([row.group_folder])"
   ]
  },
  {
   "cell_type": "code",
   "execution_count": 54,
   "metadata": {
    "collapsed": true,
    "deletable": true,
    "editable": true
   },
   "outputs": [],
   "source": [
    "Ec = 0.21448180630636157\n",
    "fc = 10.4263\n",
    "Ej = 52.405522658165175\n",
    "g = 0.29324769334758782\n",
    "gamma = 0.0001\n",
    "gamma_phi = 0.0\n",
    "kappa = 0.001\n",
    "kappa_phi = 0.0\n",
    "n_c = 0.037\n",
    "n_t = 0.0\n",
    "fd = 9.27594\n",
    "#completed = 0\n",
    "#running = 0\n",
    "\n",
    "qubit_states = np.array([1])\n",
    "\n",
    "#columns = ['eps','fd','qubit_state','t_levels','c_levels','fc','Ej','g','Ec','kappa', 'gamma', 'gamma_phi', 'n_t', 'n_c', 'end_time', 'snapshots', 'group_folder', 'completed', 'running']\n",
    "columns = ['eps','fd','qubit_state','t_levels','c_levels','fc','Ej','g','Ec','kappa', 'gamma', 'gamma_phi', 'n_t', 'n_c', 'end_time', 'snapshots', 'group_folder']\n",
    "\n",
    "name = 'gamma=0-1MHz_nt=0-0'"
   ]
  },
  {
   "cell_type": "code",
   "execution_count": null,
   "metadata": {
    "collapsed": true,
    "deletable": true,
    "editable": true
   },
   "outputs": [],
   "source": []
  },
  {
   "cell_type": "code",
   "execution_count": 55,
   "metadata": {
    "collapsed": false,
    "deletable": true,
    "editable": true
   },
   "outputs": [],
   "source": [
    "queue_list = []\n",
    "\n",
    "for index in range(recipe.shape[0]):\n",
    "    row = recipe.iloc[index,:]\n",
    "    frequencies = frequencies_gen(row.fd0, row.fd1, row.fd2, row.fd3, row.df0, row.df1, row.df2)\n",
    "\n",
    "    #arrays = np.meshgrid(row.eps, frequencies, qubit_states, row.t_levels, row.c_levels, fc, Ej, g, Ec, kappa, gamma, gamma_phi, n_t, n_c, row.endtime, row.snapshots, 1, completed, running, indexing='ij')\n",
    "    arrays = np.meshgrid(row.eps, frequencies, qubit_states, row.t_levels, row.c_levels, fc, Ej, g, Ec, kappa, gamma, gamma_phi, n_t, n_c, row.endtime, row.snapshots, row.group_folder, indexing='ij')\n",
    "    #shape = arrays[16].shape\n",
    "    #arrays[16] = np.tile(row.group_folder,shape)\n",
    "    \n",
    "    flattened = []\n",
    "    for array in arrays:\n",
    "        flattened.append(array.flatten())\n",
    "    \n",
    "    df = pd.DataFrame(flattened).T\n",
    "    df.columns = columns\n",
    "    \n",
    "    queue_list.append(df)\n",
    "    \n",
    "combined_queue = pd.concat(queue_list)\n",
    "combined_queue.index = np.arange(combined_queue.shape[0])\n",
    "combined_queue.index.name = 'job_index'"
   ]
  },
  {
   "cell_type": "code",
   "execution_count": 56,
   "metadata": {
    "collapsed": true,
    "deletable": true,
    "editable": true
   },
   "outputs": [],
   "source": [
    "with open('stack.csv','w') as f:\n",
    "    f.write(name+'\\n')\n",
    "    combined_queue.to_csv(f)"
   ]
  },
  {
   "cell_type": "code",
   "execution_count": null,
   "metadata": {
    "collapsed": true,
    "deletable": true,
    "editable": true
   },
   "outputs": [],
   "source": []
  },
  {
   "cell_type": "code",
   "execution_count": null,
   "metadata": {
    "collapsed": true,
    "deletable": true,
    "editable": true
   },
   "outputs": [],
   "source": []
  },
  {
   "cell_type": "code",
   "execution_count": null,
   "metadata": {
    "collapsed": true,
    "deletable": true,
    "editable": true
   },
   "outputs": [],
   "source": []
  }
 ],
 "metadata": {
  "kernelspec": {
   "display_name": "Python 2",
   "language": "python",
   "name": "python2"
  },
  "language_info": {
   "codemirror_mode": {
    "name": "ipython",
    "version": 2
   },
   "file_extension": ".py",
   "mimetype": "text/x-python",
   "name": "python",
   "nbconvert_exporter": "python",
   "pygments_lexer": "ipython2",
   "version": "2.7.13"
  }
 },
 "nbformat": 4,
 "nbformat_minor": 2
}
