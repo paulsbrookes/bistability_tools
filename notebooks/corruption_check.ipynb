{
 "cells": [
  {
   "cell_type": "code",
   "execution_count": 2,
   "metadata": {
    "collapsed": true
   },
   "outputs": [],
   "source": [
    "import os\n",
    "from qutip import *"
   ]
  },
  {
   "cell_type": "code",
   "execution_count": 8,
   "metadata": {
    "collapsed": false
   },
   "outputs": [
    {
     "name": "stdout",
     "output_type": "stream",
     "text": [
      "Loaded Qobj object:\n",
      "Quantum object: dims = [[45, 10], [45, 10]], shape = (450, 450), type = oper, isHerm = True\n",
      "\n"
     ]
    }
   ],
   "source": [
    "failure_list = []\n",
    "path = './133_8th_cooldown_simulation_2/bistability_tools/results/8th_cooldown_2'\n",
    "walk = os.walk(path)\n",
    "for content in walk:\n",
    "    if os.path.exists(content[0]+'/steady_state.qu'):\n",
    "        try:\n",
    "            state = qload(content[0]+'/steady_state')\n",
    "        except:\n",
    "            print('Failure to load state at ',content[0])\n",
    "            failure_list.append(content[0])"
   ]
  },
  {
   "cell_type": "code",
   "execution_count": null,
   "metadata": {
    "collapsed": true
   },
   "outputs": [],
   "source": []
  }
 ],
 "metadata": {
  "kernelspec": {
   "display_name": "bistable",
   "language": "python",
   "name": "bistable"
  },
  "language_info": {
   "codemirror_mode": {
    "name": "ipython",
    "version": 2
   },
   "file_extension": ".py",
   "mimetype": "text/x-python",
   "name": "python",
   "nbconvert_exporter": "python",
   "pygments_lexer": "ipython2",
   "version": "2.7.15"
  }
 },
 "nbformat": 4,
 "nbformat_minor": 2
}
