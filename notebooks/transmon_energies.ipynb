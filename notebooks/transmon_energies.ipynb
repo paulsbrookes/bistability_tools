{
 "cells": [
  {
   "cell_type": "code",
   "execution_count": 8,
   "metadata": {
    "collapsed": false
   },
   "outputs": [],
   "source": [
    "from cqed_tools.calibration import *\n",
    "import matplotlib.pyplot as plt\n",
    "\n",
    "%matplotlib inline"
   ]
  },
  {
   "cell_type": "code",
   "execution_count": 3,
   "metadata": {
    "collapsed": false
   },
   "outputs": [],
   "source": [
    "params = DefaultParameters()"
   ]
  },
  {
   "cell_type": "code",
   "execution_count": 44,
   "metadata": {
    "collapsed": true
   },
   "outputs": [],
   "source": [
    "params.t_levels = 19"
   ]
  },
  {
   "cell_type": "code",
   "execution_count": 51,
   "metadata": {
    "collapsed": true
   },
   "outputs": [],
   "source": [
    "energies = transmon_energies_calc(params)\n",
    "energies /= params.Ej\n",
    "levels = np.arange(0,params.t_levels)"
   ]
  },
  {
   "cell_type": "code",
   "execution_count": 53,
   "metadata": {
    "collapsed": false
   },
   "outputs": [
    {
     "data": {
      "image/png": "[encoded data removed]",
      "text/plain": [
       "<matplotlib.figure.Figure at 0x7fa65bf7d710>"
      ]
     },
     "metadata": {},
     "output_type": "display_data"
    }
   ],
   "source": [
    "matplotlib.rcParams.update({'font.size': 22})\n",
    "\n",
    "fig, axes = plt.subplots(1,1,figsize=(10,6))\n",
    "\n",
    "axes.bar(levels, energies)\n",
    "\n",
    "axes.set_ylabel(r'$E_m/E_J$')\n",
    "axes.set_xlabel('m')\n",
    "\n",
    "plt.savefig('transmon_energies.png')"
   ]
  }
 ],
 "metadata": {
  "kernelspec": {
   "display_name": "bistable",
   "language": "python",
   "name": "bistable"
  },
  "language_info": {
   "codemirror_mode": {
    "name": "ipython",
    "version": 2
   },
   "file_extension": ".py",
   "mimetype": "text/x-python",
   "name": "python",
   "nbconvert_exporter": "python",
   "pygments_lexer": "ipython2",
   "version": "2.7.15"
  }
 },
 "nbformat": 4,
 "nbformat_minor": 2
}
