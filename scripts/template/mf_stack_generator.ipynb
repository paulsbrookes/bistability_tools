{
 "cells": [
  {
   "cell_type": "code",
   "execution_count": 1,
   "metadata": {
    "collapsed": false,
    "deletable": true,
    "editable": true
   },
   "outputs": [
    {
     "name": "stderr",
     "output_type": "stream",
     "text": [
      "/homes/pbrookes/anaconda2/envs/bistable/lib/python2.7/site-packages/h5py/__init__.py:36: FutureWarning: Conversion of the second argument of issubdtype from `float` to `np.floating` is deprecated. In future, it will be treated as `np.float64 == np.dtype(float).type`.\n",
      "  from ._conv import register_converters as _register_converters\n"
     ]
    }
   ],
   "source": [
    "import pandas as pd\n",
    "import numpy as np\n",
    "import matplotlib.pyplot as plt\n",
    "from scipy.interpolate import interp1d\n",
    "from qutip import *\n",
    "from cqed_tools.calibration import *\n",
    "from cqed_tools.mf import *\n",
    "from copy import deepcopy\n",
    "%matplotlib inline"
   ]
  },
  {
   "cell_type": "code",
   "execution_count": 22,
   "metadata": {
    "collapsed": false
   },
   "outputs": [
    {
     "name": "stdout",
     "output_type": "stream",
     "text": [
      "Loaded instance object.\n"
     ]
    }
   ],
   "source": [
    "power_calibration = pd.read_csv('./exp_comparison/power_calibration.csv', header=None, index_col=0)\n",
    "eps0 = power_calibration.T['eps0'].values[0]\n",
    "params = qload('params')"
   ]
  },
  {
   "cell_type": "code",
   "execution_count": 23,
   "metadata": {
    "collapsed": false,
    "deletable": true,
    "editable": true
   },
   "outputs": [],
   "source": [
    "base_Ec = params.Ec\n",
    "base_fc = params.fc\n",
    "base_Ej = params.Ej\n",
    "base_g = params.g\n",
    "base_gamma_phi = params.gamma_phi\n",
    "base_kappa_phi = params.kappa_phi\n",
    "base_gamma = params.gamma\n",
    "base_eps = 0.0\n",
    "base_kappa = params.kappa\n",
    "base_n_t = params.n_t\n",
    "base_n_c = params.n_c\n",
    "fd = 0.0\n",
    "\n",
    "name = 'ID=15-2_high_power_twochi=15-1MHz_alpha=-0-21896_kappa=1-3MHz_nc=0-03_nt=0_eps0=2-41MHz'\n",
    "\n",
    "power_list = np.array([-17])\n",
    "sweep_list = eps_calc(power_list, eps0)\n",
    "eps_list = sweep_list\n",
    "\n",
    "endtime_list = [3e4 for param in sweep_list]\n",
    "snapshots_list = [2001 for param in sweep_list]"
   ]
  },
  {
   "cell_type": "code",
   "execution_count": 25,
   "metadata": {
    "collapsed": true,
    "deletable": true,
    "editable": true
   },
   "outputs": [],
   "source": [
    "def frequencies_gen(fd0, fd1, fd2, fd3, df0, df1, df2):\n",
    "    \n",
    "    frequencies1 = np.arange(fd0, fd1+df0, df0)\n",
    "    frequencies2 = np.arange(fd1, fd2+df1, df1)\n",
    "    frequencies3 = np.arange(fd3, fd2-df2, -df2)\n",
    "\n",
    "    frequencies = np.hstack([frequencies1, frequencies2, frequencies3])\n",
    "    \n",
    "    frequencies = np.round(frequencies, 10)\n",
    "    \n",
    "    frequencies = np.array(sorted(set(list(frequencies))))\n",
    "    \n",
    "    return frequencies\n",
    "\n",
    "\n",
    "def t_gen(eps_array):\n",
    "    n_spectra = eps_array.shape[0]\n",
    "    t_array = np.zeros(n_spectra, dtype=np.int)\n",
    "    t_array += 3 * (eps_array <= 1e-5)\n",
    "    t_array += 4 * (1e-5 < eps_array) * (eps_array <= 1e-4)\n",
    "    t_array += 6 * (1e-4 < eps_array) * (eps_array <= 1e-3)\n",
    "    t_array += 7 * (1e-3 < eps_array) * (eps_array <= 2e-3)\n",
    "    t_array += 8 * (2e-3 < eps_array) * (eps_array <= 3e-3)\n",
    "    t_array += 9 * (3e-3 < eps_array) * (eps_array <= 4e-3)\n",
    "    t_array += 9 * (4e-3 < eps_array) * (eps_array <= 5e-3)\n",
    "    t_array += 9 * (5e-3 < eps_array) * (eps_array <= 6e-3)\n",
    "    t_array += 9 * (6e-3 < eps_array) * (eps_array <= 7e-3)\n",
    "    t_array += 9 * (7e-3 < eps_array) * (eps_array <= 8e-3)\n",
    "    t_array += 10 * (8e-3 < eps_array)\n",
    "    return t_array - 2\n",
    "\n",
    "def c_gen(eps_array):\n",
    "    n_spectra = eps_array.shape[0]\n",
    "    c_array = np.zeros(n_spectra, dtype=np.int)\n",
    "    c_array += 3 * (eps_array <= 1e-5)\n",
    "    c_array += 5 * (1e-5 < eps_array) * (eps_array <= 1e-4)\n",
    "    c_array += 11 * (1e-4 < eps_array) * (eps_array <= 1e-3)\n",
    "    c_array += 20 * (1e-3 < eps_array) * (eps_array <= 2e-3)\n",
    "    c_array += 30 * (2e-3 < eps_array) * (eps_array <= 3.0e-3)\n",
    "    c_array += 40 * (3e-3 < eps_array) * (eps_array <= 4e-3)\n",
    "    c_array += 50 * (4e-3 < eps_array) * (eps_array <= 5e-3)\n",
    "    c_array += 55 * (5e-3 < eps_array) * (eps_array <= 6e-3)\n",
    "    c_array += 65 * (6e-3 < eps_array) * (eps_array <= 7e-3)\n",
    "    c_array += 75 * (7e-3 < eps_array) * (eps_array <= 8e-3)\n",
    "    c_array += 80 * (8e-3 < eps_array)\n",
    "    return c_array - 5"
   ]
  },
  {
   "cell_type": "code",
   "execution_count": 26,
   "metadata": {
    "collapsed": false,
    "deletable": true,
    "editable": true
   },
   "outputs": [
    {
     "name": "stderr",
     "output_type": "stream",
     "text": [
      "2001it [00:02, 733.84it/s]\n",
      "2001it [00:02, 750.55it/s]\n"
     ]
    }
   ],
   "source": [
    "fd1_list = [10.4722]\n",
    "fd2_list = [10.4732]\n",
    "\n",
    "fd_array = np.linspace(10.45, 10.49, 2001)\n",
    "\n",
    "fd0_list = []\n",
    "fd3_list = []\n",
    "\n",
    "for eps in eps_list:\n",
    "    params_instance = deepcopy(params)\n",
    "    params_instance.eps = eps\n",
    "    mf_amplitude_frame = mf_characterise(params_instance, fd_array)\n",
    "    fd0_list.append(mf_amplitude_frame.dropna().index[0])\n",
    "    fd3_list.append(mf_amplitude_frame.dropna().index[-1])"
   ]
  },
  {
   "cell_type": "code",
   "execution_count": 27,
   "metadata": {
    "collapsed": true,
    "deletable": true,
    "editable": true
   },
   "outputs": [],
   "source": [
    "df0_list = [0.001 for param in sweep_list]\n",
    "df1_list = [0.0002 for param in sweep_list]\n",
    "df2_list = [0.001 for param in sweep_list]"
   ]
  },
  {
   "cell_type": "code",
   "execution_count": 28,
   "metadata": {
    "collapsed": true,
    "deletable": true,
    "editable": true
   },
   "outputs": [],
   "source": [
    "group_folders = ['-17dBm']"
   ]
  },
  {
   "cell_type": "code",
   "execution_count": 29,
   "metadata": {
    "collapsed": false,
    "deletable": true,
    "editable": true
   },
   "outputs": [],
   "source": [
    "gamma_phi_list = [base_gamma_phi for param in sweep_list]\n",
    "gamma_list = [base_gamma for param in sweep_list]\n",
    "nc_list = [base_n_c for param in sweep_list]\n",
    "nt_list = [base_n_t for param in sweep_list]\n",
    "fc_list = [base_fc for param in sweep_list]\n",
    "kappa_list = [base_kappa for param in sweep_list]\n",
    "g_list = [base_g for param in sweep_list]\n",
    "Ec_list = [base_Ec for param in sweep_list]\n",
    "Ej_list = [base_Ej for param in sweep_list]\n",
    "\n",
    "eps_list = np.array(eps_list)\n",
    "t_list = t_gen(eps_list)\n",
    "c_list = c_gen(eps_list)\n",
    "\n",
    "content = [eps_list, fd0_list, fd1_list, fd2_list, fd3_list, df0_list, df1_list, df2_list, t_list, c_list, endtime_list, snapshots_list, group_folders, gamma_list, nc_list,kappa_list,nt_list,g_list,gamma_phi_list,Ec_list,Ej_list,fc_list]\n",
    "\n",
    "columns = ['eps', 'fd0', 'fd1', 'fd2', 'fd3', 'df0', 'df1', 'df2', 't_levels', 'c_levels', 'endtime', 'snapshots', 'group_folder','gamma', 'n_c','kappa','n_t','g','gamma_phi','Ec','Ej','fc']\n",
    "\n",
    "recipe = pd.DataFrame(content).T\n",
    "recipe.columns = columns"
   ]
  },
  {
   "cell_type": "code",
   "execution_count": 31,
   "metadata": {
    "collapsed": true,
    "deletable": true,
    "editable": true
   },
   "outputs": [],
   "source": [
    "qubit_states = np.array([1])\n",
    "\n",
    "#columns = ['eps','fd','qubit_state','t_levels','c_levels','fc','Ej','g','Ec','kappa', 'gamma', 'gamma_phi', 'n_t', 'n_c', 'end_time', 'snapshots', 'group_folder', 'completed', 'running']\n",
    "columns = ['eps','fd','qubit_state','t_levels','c_levels','fc','Ej','g','Ec','kappa', 'gamma', 'gamma_phi', 'n_t', 'n_c', 'end_time', 'snapshots', 'group_folder']\n",
    "\n",
    "\n",
    "queue_list = []\n",
    "\n",
    "for index in range(recipe.shape[0]):\n",
    "    row = recipe.iloc[index,:]\n",
    "    frequencies = frequencies_gen(row.fd0, row.fd1, row.fd2, row.fd3, row.df0, row.df1, row.df2)\n",
    "\n",
    "    #arrays = np.meshgrid(row.eps, frequencies, qubit_states, row.t_levels, row.c_levels, fc, Ej, g, Ec, kappa, gamma, gamma_phi, n_t, n_c, row.endtime, row.snapshots, 1, completed, running, indexing='ij')\n",
    "    arrays = np.meshgrid(row.eps, frequencies, qubit_states, row.t_levels, row.c_levels, row.fc, row.Ej, row.g, row.Ec, row.kappa, row.gamma, row.gamma_phi, row.n_t, row.n_c, row.endtime, row.snapshots, row.group_folder, indexing='ij')\n",
    "    #shape = arrays[16].shape\n",
    "    #arrays[16] = np.tile(row.group_folder,shape)\n",
    "    \n",
    "    flattened = []\n",
    "    for array in arrays:\n",
    "        flattened.append(array.flatten())\n",
    "    \n",
    "    df = pd.DataFrame(flattened).T\n",
    "    df.columns = columns\n",
    "    \n",
    "    queue_list.append(df)\n",
    "    \n",
    "combined_queue = pd.concat(queue_list)\n",
    "combined_queue.index = np.arange(combined_queue.shape[0])\n",
    "combined_queue.index.name = 'job_index'\n",
    "\n",
    "\n",
    "\n",
    "with open('stack.csv','w') as f:\n",
    "    f.write(name+'\\n')\n",
    "combined_queue.to_csv('stack.csv',mode='a')"
   ]
  },
  {
   "cell_type": "code",
   "execution_count": null,
   "metadata": {
    "collapsed": true,
    "deletable": true,
    "editable": true
   },
   "outputs": [],
   "source": []
  }
 ],
 "metadata": {
  "kernelspec": {
   "display_name": "bistable",
   "language": "python",
   "name": "bistable"
  },
  "language_info": {
   "codemirror_mode": {
    "name": "ipython",
    "version": 2
   },
   "file_extension": ".py",
   "mimetype": "text/x-python",
   "name": "python",
   "nbconvert_exporter": "python",
   "pygments_lexer": "ipython2",
   "version": "2.7.15"
  }
 },
 "nbformat": 4,
 "nbformat_minor": 2
}
